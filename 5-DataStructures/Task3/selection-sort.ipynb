{
 "cells": [
  {
   "cell_type": "markdown",
   "metadata": {},
   "source": [
    "Bir liste uzerinde siralama algoritmasini kullanarak listeyi siralayiniz."
   ]
  },
  {
   "cell_type": "code",
   "execution_count": null,
   "metadata": {},
   "outputs": [],
   "source": [
    "import random\n",
    "\n",
    "list_ = [i for i in range(0,13)]\n",
    "random.shuffle(list_)\n",
    "print(\"List: \", list_)\n",
    "\n",
    "def selection_sort(unsorted_list):\n",
    "    for i in range(len(unsorted_list)):\n",
    "        min_index = i\n",
    "        for j in range(i+1, len(unsorted_list)):\n",
    "            if unsorted_list[min_index] > unsorted_list[j]:\n",
    "                min_index = j\n",
    "        if min != i:\n",
    "            unsorted_list[min_index], unsorted_list[i] = unsorted_list[i], unsorted_list[min_index]\n",
    "\n",
    "selection_sort(list_)\n",
    "\n",
    "print(f\"Selection Sorted List: {list_}\")"
   ]
  }
 ],
 "metadata": {
  "kernelspec": {
   "display_name": "Python 3.10.8 64-bit (microsoft store)",
   "language": "python",
   "name": "python3"
  },
  "language_info": {
   "name": "python",
   "version": "3.10.8"
  },
  "orig_nbformat": 4,
  "vscode": {
   "interpreter": {
    "hash": "15402904e6cb8e9f2598ff403535c5f9471dd286c36b3851ec568e071043de37"
   }
  }
 },
 "nbformat": 4,
 "nbformat_minor": 2
}
