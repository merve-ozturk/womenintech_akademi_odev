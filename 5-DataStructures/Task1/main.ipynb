{
 "cells": [
  {
   "cell_type": "markdown",
   "metadata": {},
   "source": [
    "0'dan 100'e kadar (100 dahil) karışık sırada sayıları tutan bir liste oluşturunuz. Bu liste içerisinde n tane sayı eksik olsun, n ve eksik sayıları bulunuz."
   ]
  },
  {
   "cell_type": "code",
   "execution_count": null,
   "metadata": {},
   "outputs": [],
   "source": [
    "import random\n",
    "\n",
    "m = random.randint(0, 100)\n",
    "\n",
    "numberList1 = []\n",
    "for i in range(0, m+1):\n",
    "    j = random.randint(0, 100)\n",
    "    if j not in numberList1:\n",
    "         numberList1.append(j)\n",
    "         \n",
    "random.shuffle(numberList1)\n",
    "print(\"Listedeki sayilar: \", numberList1)\n",
    "\n",
    "numberList2 = []\n",
    "for i in range(0,101):\n",
    "    if i not in numberList1:\n",
    "        numberList2.append(i)\n",
    "\n",
    "\n",
    "n = 101 - len(numberList1)\n",
    "\n",
    "print(f\"Listede toplam {n} adet sayi eksiktir.\\n Bu sayılar: {numberList2}\")"
   ]
  }
 ],
 "metadata": {
  "kernelspec": {
   "display_name": "Python 3.10.8 64-bit (microsoft store)",
   "language": "python",
   "name": "python3"
  },
  "language_info": {
   "name": "python",
   "version": "3.10.8"
  },
  "orig_nbformat": 4,
  "vscode": {
   "interpreter": {
    "hash": "15402904e6cb8e9f2598ff403535c5f9471dd286c36b3851ec568e071043de37"
   }
  }
 },
 "nbformat": 4,
 "nbformat_minor": 2
}
