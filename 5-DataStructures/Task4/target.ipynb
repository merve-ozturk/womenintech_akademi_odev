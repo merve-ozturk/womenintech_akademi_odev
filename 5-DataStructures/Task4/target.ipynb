{
 "cells": [
  {
   "cell_type": "markdown",
   "metadata": {},
   "source": [
    "Bir integer array nums ve bir target degiskenini alan bir fonksiyon ve ekrana toplami target olan indexleri donduren bir program yaziniz.\n",
    "\n",
    "Kurallar:\n",
    "\n",
    "Aynı indexteki degeri iki defa kullanmayiniz.\n",
    "\n",
    "Target'e ulasan index ciftlerinden herhangi birini yazdirmaniz yeterlidir.\n",
    "\n",
    "Ornek:\n",
    "\n",
    "Parametreler -> nums = [2,7,11,15] target = 9\n",
    "\n",
    "Donen Deger -> [0,1]\n",
    "\n",
    "nums[0] ve nums[1]'deki degerlerin toplami 9 yaptigi için [0, 1] ekrana yazilir."
   ]
  },
  {
   "cell_type": "code",
   "execution_count": 1,
   "metadata": {},
   "outputs": [
    {
     "data": {
      "text/plain": [
       "[1, 2]"
      ]
     },
     "execution_count": 1,
     "metadata": {},
     "output_type": "execute_result"
    }
   ],
   "source": [
    "nums = [3, 5, 2, 8, 9, 6, 5, 7, 1]\n",
    "target = 7\n",
    "\n",
    "def getIndexesOfTarget(nums, target):\n",
    "    for outerIndex in range(len(nums)):\n",
    "        for innerIndex in range(len(nums)):\n",
    "            if outerIndex == innerIndex:\n",
    "                continue\n",
    "            elif nums[outerIndex] + nums[innerIndex] == target:\n",
    "                return [outerIndex, innerIndex]\n",
    "\n",
    "getIndexesOfTarget(nums, target) "
   ]
  }
 ],
 "metadata": {
  "kernelspec": {
   "display_name": "Python 3.10.8 64-bit (microsoft store)",
   "language": "python",
   "name": "python3"
  },
  "language_info": {
   "codemirror_mode": {
    "name": "ipython",
    "version": 3
   },
   "file_extension": ".py",
   "mimetype": "text/x-python",
   "name": "python",
   "nbconvert_exporter": "python",
   "pygments_lexer": "ipython3",
   "version": "3.10.8"
  },
  "orig_nbformat": 4,
  "vscode": {
   "interpreter": {
    "hash": "15402904e6cb8e9f2598ff403535c5f9471dd286c36b3851ec568e071043de37"
   }
  }
 },
 "nbformat": 4,
 "nbformat_minor": 2
}
