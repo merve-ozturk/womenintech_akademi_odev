{
 "cells": [
  {
   "cell_type": "markdown",
   "metadata": {},
   "source": [
    "0'dan 100'e kadar (100 dahil) karisik sirada sayilari tutan bir liste olusturun. Bu liste icerisinde bir adet sayi eksik olsun, eksik olan sayiyi bulunuz."
   ]
  },
  {
   "cell_type": "code",
   "execution_count": null,
   "metadata": {},
   "outputs": [],
   "source": [
    "import random\n",
    "\n",
    "number_list = [i for i in range(0,101)]\n",
    "random.shuffle(number_list)\n",
    "del number_list[0]\n",
    "\n",
    "number_set = {i for i in range(0,101)}\n",
    "difference_set = number_set - set(number_list)\n",
    "\n",
    "print(f\"Liste: {number_list}\\nListede olmayan sayi: {difference_set}\")"
   ]
  }
 ],
 "metadata": {
  "kernelspec": {
   "display_name": "Python 3.10.8 64-bit (microsoft store)",
   "language": "python",
   "name": "python3"
  },
  "language_info": {
   "name": "python",
   "version": "3.10.8"
  },
  "orig_nbformat": 4,
  "vscode": {
   "interpreter": {
    "hash": "15402904e6cb8e9f2598ff403535c5f9471dd286c36b3851ec568e071043de37"
   }
  }
 },
 "nbformat": 4,
 "nbformat_minor": 2
}
