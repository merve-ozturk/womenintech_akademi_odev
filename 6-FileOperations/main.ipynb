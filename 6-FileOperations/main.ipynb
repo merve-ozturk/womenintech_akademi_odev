{
 "cells": [
  {
   "cell_type": "markdown",
   "metadata": {},
   "source": [
    "**Düzensiz ve duplicate verilerden oluşan all_data.txt üzerinde yapılacak işlemler:**\n",
    "\n",
    "* Bütün text küçük harfe çevrilecek\n",
    "* Türkçe karakterler replace edilecek\n",
    "* Noktalama işaretleri kaldırılacak\n",
    "* Bir satır tamamen sayılardan oluşuyorsa o satır yeni dosyaya eklenmeyecek\n",
    "* Duplicate veri barındırmayacak\n",
    "* Her satırda bir cümle olacak"
   ]
  },
  {
   "cell_type": "code",
   "execution_count": 20,
   "metadata": {},
   "outputs": [],
   "source": [
    "from string import punctuation\n",
    "\n",
    "with open(\"all_data.txt\", \"r\", encoding = \"utf-8\") as f1:\n",
    "    with open(\"new_data.txt\", \"w\", encoding = \"utf-8\") as f2:\n",
    "        \n",
    "        my_set = set()\n",
    "        lines = f1.readlines()\n",
    "        \n",
    "        for line in lines:\n",
    "            line = line.lower()\n",
    "            line = line.replace(\"ş\",\"s\")\n",
    "            line = line.replace(\"ı\",\"i\")\n",
    "            line = line.replace(\"ö\",\"o\")\n",
    "            line = line.replace(\"ğ\",\"g\")\n",
    "            line = line.replace(\"ç\",\"c\")\n",
    "            line = line.replace(\"ü\",\"u\")\n",
    "            line = line.replace(\"▼\",\"\")\n",
    "            line = line.replace(\"’\",\"\")\n",
    "            line = line.replace(\"“\",\"\")\n",
    "            line = line.replace(\"”\",\"\")\n",
    "            line = line.replace(\"©\",\"\")\n",
    "            line = line.replace(\"ø\",\"\")\n",
    "            line = line.replace(\"·\",\"\")\n",
    "            line = line.replace(\"•\",\"\")\n",
    "            line = line.replace(\"—\",\"\")\n",
    "            line = ''.join([item for item in line if item not in punctuation])\n",
    "            line = line.strip()\n",
    "            line = line.replace(\"\\n\",\"\") \n",
    "            if line.isdigit() == True:\n",
    "                continue\n",
    "            my_set.add(line)\n",
    "            \n",
    "        for line in my_set:\n",
    "            f2.write(line + \"\\n\")\n",
    "            \n",
    "#bilgisayarima nltk kuramadigim icin her satira bir cumle yazma islemini gerceklestiremedim."
   ]
  }
 ],
 "metadata": {
  "kernelspec": {
   "display_name": "Python 3.10.8 64-bit (microsoft store)",
   "language": "python",
   "name": "python3"
  },
  "language_info": {
   "codemirror_mode": {
    "name": "ipython",
    "version": 3
   },
   "file_extension": ".py",
   "mimetype": "text/x-python",
   "name": "python",
   "nbconvert_exporter": "python",
   "pygments_lexer": "ipython3",
   "version": "3.10.8"
  },
  "orig_nbformat": 4,
  "vscode": {
   "interpreter": {
    "hash": "15402904e6cb8e9f2598ff403535c5f9471dd286c36b3851ec568e071043de37"
   }
  }
 },
 "nbformat": 4,
 "nbformat_minor": 2
}
