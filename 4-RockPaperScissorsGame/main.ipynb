{
 "cells": [
  {
   "cell_type": "code",
   "execution_count": null,
   "metadata": {},
   "outputs": [],
   "source": [
    "import random\n",
    "\n",
    "player_score = computer_score = 0\n",
    "computer_choice = 0\n",
    "\n",
    "def print_result(winner=\"Bilgisayar\"):\n",
    "\n",
    "  print(f\"Bilgisayarin secimi: {computer_choice}\\n\\n Kazanan: {winner}\")\n",
    "  \n",
    "  global player_score, computer_score\n",
    "  if winner == \"Bilgisayar\":\n",
    "    computer_score += 100\n",
    "  else:\n",
    "    player_score += 100\n",
    "\n",
    "print(\"Tas Kagit Makas Oyununa Hos Geldiniz!\\n\" + \"-\"*37)\n",
    "\n",
    "while True:\n",
    "  \n",
    "  print(\"\\n1 - Tas\\n2 - Kagit\\n3 - Makas\\nOyundan cikmak isterseniz bu sayilar disinda bir sayi giriniz.\")\n",
    "  player_choice = int(input(\"Seciminizi yapiniz: \"))\n",
    "  computer_choice = random.choice([1,2,3])\n",
    "  \n",
    "  if player_choice == computer_choice:\n",
    "    print(\"\\nBerabere, yeniden oynayiniz.\")\n",
    " \n",
    "  elif player_choice == 1:\n",
    "    if computer_choice == 2:\n",
    "      print_result()\n",
    "      \n",
    "    elif computer_choice == 3:\n",
    "      print_result(\"Kullanici\")\n",
    "     \n",
    "  elif player_choice == 2:\n",
    "    if computer_choice == 1:\n",
    "      print_result(\"Kullanici\")\n",
    "      \n",
    "    elif computer_choice == 3:\n",
    "      print_result()\n",
    "      \n",
    "  elif player_choice == 3:\n",
    "    if computer_choice == 1:\n",
    "      print_result()\n",
    "      \n",
    "    elif computer_choice == 2:\n",
    "      print_result(\"Kullanici\")\n",
    "      \n",
    "  else:\n",
    "    break\n",
    "\n",
    "print(f\"\\n\\nKullanicinin skoru: {player_score} - Bilgisayarin skoru: {computer_score}\")\n",
    "if player_score > computer_score:\n",
    "  print(\"Kazanan: Kullanici\")\n",
    "elif player_score < computer_score:\n",
    "  print(\"Kazanan: Bilgisayar\")\n",
    "else:\n",
    "  print(\"Berabere\")"
   ]
  }
 ],
 "metadata": {
  "kernelspec": {
   "display_name": "Python 3.10.8 64-bit (microsoft store)",
   "language": "python",
   "name": "python3"
  },
  "language_info": {
   "name": "python",
   "version": "3.10.8"
  },
  "orig_nbformat": 4,
  "vscode": {
   "interpreter": {
    "hash": "15402904e6cb8e9f2598ff403535c5f9471dd286c36b3851ec568e071043de37"
   }
  }
 },
 "nbformat": 4,
 "nbformat_minor": 2
}
