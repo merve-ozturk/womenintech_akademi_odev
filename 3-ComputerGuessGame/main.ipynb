{
 "cells": [
  {
   "cell_type": "code",
   "execution_count": null,
   "metadata": {},
   "outputs": [],
   "source": [
    "import random\n",
    "\n",
    "def compGuess(n):\n",
    "    start = 1\n",
    "    end = 100\n",
    "    result = \"\"\n",
    "    while result != \"d\":\n",
    "        guess = random.randint(start, end)\n",
    "        result = input(f\"{guess} degeri aklindan tuttugun sayidan kucukse (k), buyukse(b), dogruysa (d) giriniz: \").lower()\n",
    "        if result == \"k\":\n",
    "            start = guess +1\n",
    "        elif result == \"b\":\n",
    "            end = guess - 1\n",
    "    else:\n",
    "        print(\"Tebrikler, dogru tahmin!\")\n",
    "        \n",
    "compGuess(41)"
   ]
  }
 ],
 "metadata": {
  "kernelspec": {
   "display_name": "Python 3.10.8 64-bit (microsoft store)",
   "language": "python",
   "name": "python3"
  },
  "language_info": {
   "name": "python",
   "version": "3.10.8"
  },
  "orig_nbformat": 4,
  "vscode": {
   "interpreter": {
    "hash": "15402904e6cb8e9f2598ff403535c5f9471dd286c36b3851ec568e071043de37"
   }
  }
 },
 "nbformat": 4,
 "nbformat_minor": 2
}
