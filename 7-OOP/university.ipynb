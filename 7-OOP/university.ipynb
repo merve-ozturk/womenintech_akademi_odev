{
 "cells": [
  {
   "cell_type": "markdown",
   "metadata": {},
   "source": [
    "\n",
    "* Üniversiteye ait sınıflıklar, çalışma ofisleri ve departmanlar vardır.\n",
    "* Departmanlara ait ofisler vardır.\n",
    "* Üniversiteye ait çalışanlar vardır. Bu çalışanlar profesör veya memur olabilir.\n",
    "* Her çalışan bir ofiste çalışır."
   ]
  },
  {
   "cell_type": "code",
   "execution_count": 1,
   "metadata": {},
   "outputs": [
    {
     "name": "stdout",
     "output_type": "stream",
     "text": [
      "True\n",
      "incorrect employee title\n"
     ]
    }
   ],
   "source": [
    "class University:\n",
    "    def __init__(self, uniclass, office, employee_title, departman):\n",
    "        self.uniclass = uniclass\n",
    "        self.office = office\n",
    "        self.employee_title = employee_title\n",
    "        self.departman = departman\n",
    "    def control_employee(self, employee_title):\n",
    "        emplist = [\"Professor\", \"Officer\"]\n",
    "        if employee_title not in emplist:\n",
    "            print(\"incorrect employee title\")\n",
    "        else:\n",
    "            print(\"True\")\n",
    "\n",
    "employee1 = University(\"class1\", \"office2\", \"Professor\", \"Math\")\n",
    "employee1.control_employee(\"Professor\")\n",
    "\n",
    "employee2 = University(\"class2\", \"office3\", \"Engineer\", \"CS\")\n",
    "employee2.control_employee(\"Engineer\")"
   ]
  }
 ],
 "metadata": {
  "kernelspec": {
   "display_name": "Python 3.10.8 64-bit (microsoft store)",
   "language": "python",
   "name": "python3"
  },
  "language_info": {
   "codemirror_mode": {
    "name": "ipython",
    "version": 3
   },
   "file_extension": ".py",
   "mimetype": "text/x-python",
   "name": "python",
   "nbconvert_exporter": "python",
   "pygments_lexer": "ipython3",
   "version": "3.10.8"
  },
  "orig_nbformat": 4,
  "vscode": {
   "interpreter": {
    "hash": "15402904e6cb8e9f2598ff403535c5f9471dd286c36b3851ec568e071043de37"
   }
  }
 },
 "nbformat": 4,
 "nbformat_minor": 2
}
