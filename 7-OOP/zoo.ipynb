{
 "cells": [
  {
   "cell_type": "markdown",
   "metadata": {},
   "source": [
    "**Bir hayvanat bahçesindeki hayvanlar hakkındaki bilgileri takip etmek için bir sistem tasarlayın.**\n",
    "\n",
    "Hayvanlar:\n",
    "\n",
    "* Atlar (atlar, zebralar, eşekler vb.),\n",
    "* Kedigiller (kaplanlar, aslanlar vb.),\n",
    "* Kemirgenler (sıçanlar, kunduzlar vb.) gibi gruplardaki türlerle karakterize edilir.\n",
    "* Hayvanlar hakkında depolanan bilgilerin çoğu tüm gruplamalar için aynıdır: tür adı, ağırlığı, yaşı vb.\n",
    "* Sistem ayrıca her hayvan için belirli ilaçların dozajını alabilmeli => getDosage ()\n",
    "* Sistem Yem verme zamanlarını hesaplayabilmelidir => getFeedSchedule ()\n",
    "* Sistemin bu işlevleri yerine getirme mantığı, her gruplama için farklı olacaktır. Örneğin, atlar için yem verme algoritması farklı olup, kaplanlar için farklı olacaktır."
   ]
  },
  {
   "cell_type": "code",
   "execution_count": 1,
   "metadata": {},
   "outputs": [
    {
     "name": "stdout",
     "output_type": "stream",
     "text": [
      "Atlar için:\n",
      "İlaç dozu: 3\n",
      "Yem Saatleri: [6, 12, 18]\n",
      "\n",
      "\n",
      "Kemirgenler için:\n",
      "İlaç dozu: 1\n",
      "Yem Saatleri: [8, 18]\n",
      "\n",
      "\n",
      "Kedigiller için:\n",
      "İlaç dozu: 2\n",
      "Yem Saatleri: [6, 13, 20]\n",
      "\n",
      "\n"
     ]
    }
   ],
   "source": [
    "class Hayvan:\n",
    "    def __init__(self, tur_adi, agirlik, yas):\n",
    "        self.tur_adi = tur_adi\n",
    "        self.agirlik = agirlik\n",
    "        self.yas =yas\n",
    "    def getFeedSchedule(self):\n",
    "        return [10, 20]\n",
    "    def getDosage(self):\n",
    "        return 2\n",
    "    \n",
    "class Atlar(Hayvan):\n",
    "    def __init__(self, tur_adi, agirlik, yas):\n",
    "        super().__init__(tur_adi, agirlik, yas)\n",
    "    def getFeedSchedule(self):\n",
    "        return [6, 12, 18]\n",
    "    def getDosage(self):\n",
    "        return 3\n",
    "    \n",
    "class Kemirgenler(Hayvan):\n",
    "    def __init__(self, tur_adi, agirlik, yas):\n",
    "        super().__init__(tur_adi, agirlik, yas)\n",
    "    def getFeedSchedule(self):\n",
    "        return [8, 18]\n",
    "    def getDosage(self):\n",
    "        return 1\n",
    "class Kedigiller(Hayvan):\n",
    "    def __init__(self, tur_adi, agirlik, yas):\n",
    "        super().__init__(tur_adi, agirlik, yas)\n",
    "    def getFeedSchedule(self):\n",
    "        return [6, 13, 20]\n",
    "\n",
    "    def getDosage(self):\n",
    "        return 2\n",
    "at = Atlar(\"At\", 150, 3)\n",
    "aslan = Kedigiller(\"Aslan\", 90, 1)\n",
    "kemirgen = Kemirgenler(\"Kemirgen\", 2, 1)\n",
    "\n",
    "print(f\"Atlar için:\\nİlaç dozu: {at.getDosage()}\\nYem Saatleri: {at.getFeedSchedule()}\\n\\n\")\n",
    "print(f\"Kemirgenler için:\\nİlaç dozu: {kemirgen.getDosage()}\\nYem Saatleri: {kemirgen.getFeedSchedule()}\\n\\n\")\n",
    "print(f\"Kedigiller için:\\nİlaç dozu: {aslan.getDosage()}\\nYem Saatleri: {aslan.getFeedSchedule()}\\n\\n\")"
   ]
  }
 ],
 "metadata": {
  "kernelspec": {
   "display_name": "Python 3.10.8 64-bit (microsoft store)",
   "language": "python",
   "name": "python3"
  },
  "language_info": {
   "codemirror_mode": {
    "name": "ipython",
    "version": 3
   },
   "file_extension": ".py",
   "mimetype": "text/x-python",
   "name": "python",
   "nbconvert_exporter": "python",
   "pygments_lexer": "ipython3",
   "version": "3.10.8"
  },
  "orig_nbformat": 4,
  "vscode": {
   "interpreter": {
    "hash": "15402904e6cb8e9f2598ff403535c5f9471dd286c36b3851ec568e071043de37"
   }
  }
 },
 "nbformat": 4,
 "nbformat_minor": 2
}
