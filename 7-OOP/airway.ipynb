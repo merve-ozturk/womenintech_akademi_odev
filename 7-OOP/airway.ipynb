{
 "cells": [
  {
   "cell_type": "markdown",
   "metadata": {},
   "source": [
    "**Uçuşların ve pilotların yönetimi için bir sistem tasarlayın.**\n",
    "\n",
    "* Hava yolu şirketleri uçuşları gerçekleştirir. Her hava yolunun bir kimliği vardır.\n",
    "* Hava yolu şirketi, farklı tipteki uçaklara sahiptir.\n",
    "* Uçaklar çalışır veya onarım durumunda olabilir.\n",
    "* Her uçuşun benzersiz kimliği, kalkacağı ve ineceği havaalanı, kalkış ve iniş saatleri vardır.\n",
    "* Her uçuşun bir pilotu ve yardımcı pilotu vardır ve uçağı kullanırlar.\n",
    "* Havaalanlarının benzersiz kimlikleri ve isimleri vardır.\n",
    "* Hava yolu şirketlerinin pilotları vardır ve her pilotun bir deneyim seviyesi mevcuttur.\n",
    "* Bir uçak tipi, belirli sayıda pilota ihtiyaç duyabilir."
   ]
  },
  {
   "cell_type": "code",
   "execution_count": 4,
   "metadata": {},
   "outputs": [],
   "source": [
    "class Airway:\n",
    "    def __init__(self, airway_id, airway_name, airplane_type, airplane_mode):\n",
    "        self.airway_id = airway_id\n",
    "        self.airway_name = airway_name\n",
    "        self.airplane_type = airplane_type\n",
    "        self.airplane_mode = airplane_mode\n",
    "\n",
    "class Flight(Airway):\n",
    "    def __init__(self, airway_id, airway_name, airplane_type, airplane_mode, flight_id, landing_place, departure_time, landing_time, pilot, co_pilot):\n",
    "        super().__init__(airway_id, airway_name, airplane_type, airplane_mode)        \n",
    "        self.flight_id = flight_id\n",
    "        self.landing_place = landing_place\n",
    "        self.departure_time = departure_time\n",
    "        self.landing_time = landing_time\n",
    "        self.pilot = pilot\n",
    "        self.co_pilot = co_pilot"
   ]
  }
 ],
 "metadata": {
  "kernelspec": {
   "display_name": "Python 3.10.8 64-bit (microsoft store)",
   "language": "python",
   "name": "python3"
  },
  "language_info": {
   "codemirror_mode": {
    "name": "ipython",
    "version": 3
   },
   "file_extension": ".py",
   "mimetype": "text/x-python",
   "name": "python",
   "nbconvert_exporter": "python",
   "pygments_lexer": "ipython3",
   "version": "3.10.8"
  },
  "orig_nbformat": 4,
  "vscode": {
   "interpreter": {
    "hash": "15402904e6cb8e9f2598ff403535c5f9471dd286c36b3851ec568e071043de37"
   }
  }
 },
 "nbformat": 4,
 "nbformat_minor": 2
}
