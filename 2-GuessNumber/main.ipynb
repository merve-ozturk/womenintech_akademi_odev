{
 "cells": [
  {
   "cell_type": "code",
   "execution_count": null,
   "metadata": {},
   "outputs": [],
   "source": [
    "from random import randint\n",
    "\n",
    "def guess(number):\n",
    "    user_number = int(input(\"Sayi tahmin oyunu için 1 - 100 arasinda bir tahminde bulunun: \"))\n",
    "    while number != user_number:\n",
    "        if number < user_number:\n",
    "            print(\"Dogru tahmin icin daha kucuk bir tahminde bulunmalisin.\")\n",
    "        else:\n",
    "            print(\"Dogru tahmin icin daha buyuk bir tahminde bulunmalisin.\")\n",
    "        user_number = int(input(\"Yeniden bir tahminde bulunun: \"))\n",
    "    else:\n",
    "        print(\"Tebrikler, dogru tahmin!\")\n",
    "        \n",
    "guess(randint(1,100)) "
   ]
  }
 ],
 "metadata": {
  "kernelspec": {
   "display_name": "Python 3.10.8 64-bit (microsoft store)",
   "language": "python",
   "name": "python3"
  },
  "language_info": {
   "name": "python",
   "version": "3.10.8"
  },
  "orig_nbformat": 4,
  "vscode": {
   "interpreter": {
    "hash": "15402904e6cb8e9f2598ff403535c5f9471dd286c36b3851ec568e071043de37"
   }
  }
 },
 "nbformat": 4,
 "nbformat_minor": 2
}
